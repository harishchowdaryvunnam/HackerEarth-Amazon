{
 "cells": [
  {
   "cell_type": "markdown",
   "id": "faecc465",
   "metadata": {},
   "source": [
    "# Import Libraries"
   ]
  },
  {
   "cell_type": "code",
   "execution_count": 1,
   "id": "618c3bfb",
   "metadata": {},
   "outputs": [],
   "source": [
    "import pandas as pd\n",
    "import numpy as np\n",
    "import matplotlib.pyplot as plt\n",
    "import seaborn as sns\n",
    "from sklearn.metrics import accuracy_score, r2_score, mean_squared_error\n",
    "from sklearn.model_selection import train_test_split"
   ]
  },
  {
   "cell_type": "markdown",
   "id": "86dc71be",
   "metadata": {},
   "source": [
    "# Import dataset from local mission"
   ]
  },
  {
   "cell_type": "code",
   "execution_count": 2,
   "id": "75739100",
   "metadata": {},
   "outputs": [],
   "source": [
    "train = pd.read_csv(\"C:/Users/Hari/OneDrive/Desktop/Hacker Earth/Train.csv\")\n",
    "test = pd.read_csv(\"C:/Users/Hari/OneDrive/Desktop/Hacker Earth/Test.csv\")"
   ]
  },
  {
   "cell_type": "markdown",
   "id": "46f540d9",
   "metadata": {},
   "source": [
    "Save EmdID column from test dataset for submission"
   ]
  },
  {
   "cell_type": "code",
   "execution_count": 3,
   "id": "268f9113",
   "metadata": {},
   "outputs": [],
   "source": [
    "EmpID = test[\"EmpID\"]"
   ]
  },
  {
   "cell_type": "markdown",
   "id": "0e1bc452",
   "metadata": {},
   "source": [
    "# Exploratory Data Analysis & Visualizaion"
   ]
  },
  {
   "cell_type": "code",
   "execution_count": 4,
   "id": "650b7041",
   "metadata": {},
   "outputs": [
    {
     "data": {
      "text/html": [
       "<div>\n",
       "<style scoped>\n",
       "    .dataframe tbody tr th:only-of-type {\n",
       "        vertical-align: middle;\n",
       "    }\n",
       "\n",
       "    .dataframe tbody tr th {\n",
       "        vertical-align: top;\n",
       "    }\n",
       "\n",
       "    .dataframe thead th {\n",
       "        text-align: right;\n",
       "    }\n",
       "</style>\n",
       "<table border=\"1\" class=\"dataframe\">\n",
       "  <thead>\n",
       "    <tr style=\"text-align: right;\">\n",
       "      <th></th>\n",
       "      <th>EmpID</th>\n",
       "      <th>EmpName</th>\n",
       "      <th>LanguageOfCommunication</th>\n",
       "      <th>Age</th>\n",
       "      <th>Gender</th>\n",
       "      <th>JobProfileIDApplyingFor</th>\n",
       "      <th>HighestDegree</th>\n",
       "      <th>DegreeBranch</th>\n",
       "      <th>GraduatingInstitute</th>\n",
       "      <th>LatestDegreeCGPA</th>\n",
       "      <th>...</th>\n",
       "      <th>CurrentCTC</th>\n",
       "      <th>ExpectedCTC</th>\n",
       "      <th>MartialStatus</th>\n",
       "      <th>EmpScore</th>\n",
       "      <th>CurrentDesignation</th>\n",
       "      <th>CurrentCompanyType</th>\n",
       "      <th>DepartmentInCompany</th>\n",
       "      <th>TotalLeavesTaken</th>\n",
       "      <th>BiasInfluentialFactor</th>\n",
       "      <th>FitmentPercent</th>\n",
       "    </tr>\n",
       "  </thead>\n",
       "  <tbody>\n",
       "    <tr>\n",
       "      <th>0</th>\n",
       "      <td>11041</td>\n",
       "      <td>John</td>\n",
       "      <td>English</td>\n",
       "      <td>35</td>\n",
       "      <td>Male</td>\n",
       "      <td>JR85289</td>\n",
       "      <td>B.Tech</td>\n",
       "      <td>Electrical</td>\n",
       "      <td>Tier 1</td>\n",
       "      <td>7</td>\n",
       "      <td>...</td>\n",
       "      <td>21</td>\n",
       "      <td>26</td>\n",
       "      <td>Married</td>\n",
       "      <td>5</td>\n",
       "      <td>SSE</td>\n",
       "      <td>Enterprise</td>\n",
       "      <td>Design</td>\n",
       "      <td>20</td>\n",
       "      <td>YearsOfExperince</td>\n",
       "      <td>95.40</td>\n",
       "    </tr>\n",
       "    <tr>\n",
       "      <th>1</th>\n",
       "      <td>15079</td>\n",
       "      <td>William</td>\n",
       "      <td>English</td>\n",
       "      <td>26</td>\n",
       "      <td>Male</td>\n",
       "      <td>JR87525</td>\n",
       "      <td>B.Tech</td>\n",
       "      <td>Artificial Intelligence</td>\n",
       "      <td>Tier 3</td>\n",
       "      <td>7</td>\n",
       "      <td>...</td>\n",
       "      <td>15</td>\n",
       "      <td>19</td>\n",
       "      <td>Married</td>\n",
       "      <td>5</td>\n",
       "      <td>BA</td>\n",
       "      <td>MidSized</td>\n",
       "      <td>Engineering</td>\n",
       "      <td>6</td>\n",
       "      <td>NaN</td>\n",
       "      <td>67.09</td>\n",
       "    </tr>\n",
       "    <tr>\n",
       "      <th>2</th>\n",
       "      <td>18638</td>\n",
       "      <td>James</td>\n",
       "      <td>English</td>\n",
       "      <td>36</td>\n",
       "      <td>Female</td>\n",
       "      <td>JR87525</td>\n",
       "      <td>PhD</td>\n",
       "      <td>Computer Science</td>\n",
       "      <td>Tier 1</td>\n",
       "      <td>6</td>\n",
       "      <td>...</td>\n",
       "      <td>15</td>\n",
       "      <td>24</td>\n",
       "      <td>Single</td>\n",
       "      <td>5</td>\n",
       "      <td>SDE</td>\n",
       "      <td>MidSized</td>\n",
       "      <td>Engineering</td>\n",
       "      <td>19</td>\n",
       "      <td>Gender</td>\n",
       "      <td>91.26</td>\n",
       "    </tr>\n",
       "    <tr>\n",
       "      <th>3</th>\n",
       "      <td>3941</td>\n",
       "      <td>Charles</td>\n",
       "      <td>English</td>\n",
       "      <td>29</td>\n",
       "      <td>Female</td>\n",
       "      <td>JR87525</td>\n",
       "      <td>BCA</td>\n",
       "      <td>Information Technology</td>\n",
       "      <td>Tier 2</td>\n",
       "      <td>5</td>\n",
       "      <td>...</td>\n",
       "      <td>16</td>\n",
       "      <td>24</td>\n",
       "      <td>Married</td>\n",
       "      <td>5</td>\n",
       "      <td>SDE</td>\n",
       "      <td>Startup</td>\n",
       "      <td>Product</td>\n",
       "      <td>16</td>\n",
       "      <td>Gender</td>\n",
       "      <td>72.29</td>\n",
       "    </tr>\n",
       "    <tr>\n",
       "      <th>4</th>\n",
       "      <td>5936</td>\n",
       "      <td>George</td>\n",
       "      <td>English</td>\n",
       "      <td>25</td>\n",
       "      <td>Male</td>\n",
       "      <td>JR70175</td>\n",
       "      <td>Dual M.Tech</td>\n",
       "      <td>Computer Science</td>\n",
       "      <td>Tier 3</td>\n",
       "      <td>8</td>\n",
       "      <td>...</td>\n",
       "      <td>24</td>\n",
       "      <td>32</td>\n",
       "      <td>Married</td>\n",
       "      <td>5</td>\n",
       "      <td>SDE</td>\n",
       "      <td>Enterprise</td>\n",
       "      <td>Engineering</td>\n",
       "      <td>10</td>\n",
       "      <td>DegreeBranch</td>\n",
       "      <td>86.34</td>\n",
       "    </tr>\n",
       "  </tbody>\n",
       "</table>\n",
       "<p>5 rows × 22 columns</p>\n",
       "</div>"
      ],
      "text/plain": [
       "   EmpID  EmpName LanguageOfCommunication  Age  Gender  \\\n",
       "0  11041     John                 English   35    Male   \n",
       "1  15079  William                 English   26    Male   \n",
       "2  18638    James                 English   36  Female   \n",
       "3   3941  Charles                 English   29  Female   \n",
       "4   5936   George                 English   25    Male   \n",
       "\n",
       "  JobProfileIDApplyingFor HighestDegree             DegreeBranch  \\\n",
       "0                 JR85289        B.Tech               Electrical   \n",
       "1                 JR87525        B.Tech  Artificial Intelligence   \n",
       "2                 JR87525           PhD         Computer Science   \n",
       "3                 JR87525           BCA   Information Technology   \n",
       "4                 JR70175   Dual M.Tech         Computer Science   \n",
       "\n",
       "  GraduatingInstitute  LatestDegreeCGPA  ...  CurrentCTC  ExpectedCTC  \\\n",
       "0              Tier 1                 7  ...          21           26   \n",
       "1              Tier 3                 7  ...          15           19   \n",
       "2              Tier 1                 6  ...          15           24   \n",
       "3              Tier 2                 5  ...          16           24   \n",
       "4              Tier 3                 8  ...          24           32   \n",
       "\n",
       "   MartialStatus  EmpScore CurrentDesignation  CurrentCompanyType  \\\n",
       "0        Married         5                SSE          Enterprise   \n",
       "1        Married         5                 BA            MidSized   \n",
       "2         Single         5                SDE            MidSized   \n",
       "3        Married         5                SDE             Startup   \n",
       "4        Married         5                SDE          Enterprise   \n",
       "\n",
       "  DepartmentInCompany TotalLeavesTaken BiasInfluentialFactor  FitmentPercent  \n",
       "0              Design               20      YearsOfExperince           95.40  \n",
       "1         Engineering                6                   NaN           67.09  \n",
       "2         Engineering               19                Gender           91.26  \n",
       "3             Product               16                Gender           72.29  \n",
       "4         Engineering               10          DegreeBranch           86.34  \n",
       "\n",
       "[5 rows x 22 columns]"
      ]
     },
     "execution_count": 4,
     "metadata": {},
     "output_type": "execute_result"
    }
   ],
   "source": [
    "train.head()"
   ]
  },
  {
   "cell_type": "code",
   "execution_count": 5,
   "id": "d84f5990",
   "metadata": {},
   "outputs": [
    {
     "name": "stdout",
     "output_type": "stream",
     "text": [
      "<class 'pandas.core.frame.DataFrame'>\n",
      "RangeIndex: 13645 entries, 0 to 13644\n",
      "Data columns (total 22 columns):\n",
      " #   Column                   Non-Null Count  Dtype  \n",
      "---  ------                   --------------  -----  \n",
      " 0   EmpID                    13645 non-null  int64  \n",
      " 1   EmpName                  13645 non-null  object \n",
      " 2   LanguageOfCommunication  13645 non-null  object \n",
      " 3   Age                      13645 non-null  int64  \n",
      " 4   Gender                   13645 non-null  object \n",
      " 5   JobProfileIDApplyingFor  13645 non-null  object \n",
      " 6   HighestDegree            13645 non-null  object \n",
      " 7   DegreeBranch             13645 non-null  object \n",
      " 8   GraduatingInstitute      13645 non-null  object \n",
      " 9   LatestDegreeCGPA         13645 non-null  int64  \n",
      " 10  YearsOfExperince         13645 non-null  int64  \n",
      " 11  GraduationYear           13645 non-null  int64  \n",
      " 12  CurrentCTC               13645 non-null  int64  \n",
      " 13  ExpectedCTC              13645 non-null  int64  \n",
      " 14  MartialStatus            13645 non-null  object \n",
      " 15  EmpScore                 13645 non-null  int64  \n",
      " 16  CurrentDesignation       13645 non-null  object \n",
      " 17  CurrentCompanyType       13645 non-null  object \n",
      " 18  DepartmentInCompany      13645 non-null  object \n",
      " 19  TotalLeavesTaken         13645 non-null  int64  \n",
      " 20  BiasInfluentialFactor    10309 non-null  object \n",
      " 21  FitmentPercent           13645 non-null  float64\n",
      "dtypes: float64(1), int64(9), object(12)\n",
      "memory usage: 2.3+ MB\n"
     ]
    }
   ],
   "source": [
    "train.info()"
   ]
  },
  {
   "cell_type": "code",
   "execution_count": 6,
   "id": "533f2580",
   "metadata": {},
   "outputs": [
    {
     "data": {
      "text/plain": [
       "EmpID                         0\n",
       "EmpName                       0\n",
       "LanguageOfCommunication       0\n",
       "Age                           0\n",
       "Gender                        0\n",
       "JobProfileIDApplyingFor       0\n",
       "HighestDegree                 0\n",
       "DegreeBranch                  0\n",
       "GraduatingInstitute           0\n",
       "LatestDegreeCGPA              0\n",
       "YearsOfExperince              0\n",
       "GraduationYear                0\n",
       "CurrentCTC                    0\n",
       "ExpectedCTC                   0\n",
       "MartialStatus                 0\n",
       "EmpScore                      0\n",
       "CurrentDesignation            0\n",
       "CurrentCompanyType            0\n",
       "DepartmentInCompany           0\n",
       "TotalLeavesTaken              0\n",
       "BiasInfluentialFactor      3336\n",
       "FitmentPercent                0\n",
       "dtype: int64"
      ]
     },
     "execution_count": 6,
     "metadata": {},
     "output_type": "execute_result"
    }
   ],
   "source": [
    "train.isnull().sum()"
   ]
  },
  {
   "cell_type": "code",
   "execution_count": 7,
   "id": "97997976",
   "metadata": {},
   "outputs": [
    {
     "data": {
      "text/plain": [
       "EmpID                      0\n",
       "EmpName                    0\n",
       "LanguageOfCommunication    0\n",
       "Age                        0\n",
       "Gender                     0\n",
       "JobProfileIDApplyingFor    0\n",
       "HighestDegree              0\n",
       "DegreeBranch               0\n",
       "GraduatingInstitute        0\n",
       "LatestDegreeCGPA           0\n",
       "YearsOfExperince           0\n",
       "GraduationYear             0\n",
       "CurrentCTC                 0\n",
       "ExpectedCTC                0\n",
       "MartialStatus              0\n",
       "EmpScore                   0\n",
       "CurrentDesignation         0\n",
       "CurrentCompanyType         0\n",
       "DepartmentInCompany        0\n",
       "TotalLeavesTaken           0\n",
       "dtype: int64"
      ]
     },
     "execution_count": 7,
     "metadata": {},
     "output_type": "execute_result"
    }
   ],
   "source": [
    "test.isnull().sum()"
   ]
  },
  {
   "cell_type": "code",
   "execution_count": 8,
   "id": "91b241cc",
   "metadata": {},
   "outputs": [
    {
     "data": {
      "text/plain": [
       "DegreeBranch          2858\n",
       "Gender                2605\n",
       "YearsOfExperince      1561\n",
       "CurrentCompanyType    1174\n",
       "EmpScore               659\n",
       "HighestDegree          582\n",
       "Ethinicity             328\n",
       "MartialStatus          280\n",
       "LatestDegreeCGPA       262\n",
       "Name: BiasInfluentialFactor, dtype: int64"
      ]
     },
     "execution_count": 8,
     "metadata": {},
     "output_type": "execute_result"
    }
   ],
   "source": [
    "train[\"BiasInfluentialFactor\"].value_counts()"
   ]
  },
  {
   "cell_type": "code",
   "execution_count": 9,
   "id": "3e242413",
   "metadata": {},
   "outputs": [],
   "source": [
    "train[\"BiasInfluentialFactor\"] = train[\"BiasInfluentialFactor\"].fillna('None')"
   ]
  },
  {
   "cell_type": "code",
   "execution_count": 10,
   "id": "5c993d78",
   "metadata": {},
   "outputs": [],
   "source": [
    "train =  train.drop(columns = [\"EmpID\",\"EmpName\",\"GraduationYear\"],axis = 1)\n",
    "test =  test.drop(columns = [\"EmpID\",\"EmpName\",\"GraduationYear\"],axis = 1)"
   ]
  },
  {
   "cell_type": "code",
   "execution_count": 11,
   "id": "74f2dd31",
   "metadata": {},
   "outputs": [
    {
     "name": "stderr",
     "output_type": "stream",
     "text": [
      "c:\\users\\hari\\appdata\\local\\programs\\python\\python39\\lib\\site-packages\\seaborn\\_decorators.py:36: FutureWarning: Pass the following variable as a keyword arg: x. From version 0.12, the only valid positional argument will be `data`, and passing other arguments without an explicit keyword will result in an error or misinterpretation.\n",
      "  warnings.warn(\n"
     ]
    },
    {
     "data": {
      "text/plain": [
       "<AxesSubplot:xlabel='LanguageOfCommunication', ylabel='count'>"
      ]
     },
     "execution_count": 11,
     "metadata": {},
     "output_type": "execute_result"
    },
    {
     "data": {
      "image/png": "[encoded data removed]",
      "text/plain": [
       "<Figure size 720x432 with 1 Axes>"
      ]
     },
     "metadata": {
      "needs_background": "light"
     },
     "output_type": "display_data"
    }
   ],
   "source": [
    "plt.figure(figsize=(10,6))\n",
    "sns.countplot(train[\"LanguageOfCommunication\"])"
   ]
  },
  {
   "cell_type": "code",
   "execution_count": 12,
   "id": "73bf8947",
   "metadata": {},
   "outputs": [
    {
     "name": "stderr",
     "output_type": "stream",
     "text": [
      "c:\\users\\hari\\appdata\\local\\programs\\python\\python39\\lib\\site-packages\\seaborn\\_decorators.py:36: FutureWarning: Pass the following variable as a keyword arg: x. From version 0.12, the only valid positional argument will be `data`, and passing other arguments without an explicit keyword will result in an error or misinterpretation.\n",
      "  warnings.warn(\n"
     ]
    },
    {
     "data": {
      "text/plain": [
       "<AxesSubplot:xlabel='HighestDegree', ylabel='count'>"
      ]
     },
     "execution_count": 12,
     "metadata": {},
     "output_type": "execute_result"
    },
    {
     "data": {
      "image/png": "[encoded data removed]",
      "text/plain": [
       "<Figure size 720x432 with 1 Axes>"
      ]
     },
     "metadata": {
      "needs_background": "light"
     },
     "output_type": "display_data"
    }
   ],
   "source": [
    "plt.figure(figsize=(10,6))\n",
    "sns.countplot(train[\"HighestDegree\"])"
   ]
  },
  {
   "cell_type": "code",
   "execution_count": 13,
   "id": "623c4a79",
   "metadata": {},
   "outputs": [
    {
     "name": "stderr",
     "output_type": "stream",
     "text": [
      "c:\\users\\hari\\appdata\\local\\programs\\python\\python39\\lib\\site-packages\\seaborn\\_decorators.py:36: FutureWarning: Pass the following variable as a keyword arg: x. From version 0.12, the only valid positional argument will be `data`, and passing other arguments without an explicit keyword will result in an error or misinterpretation.\n",
      "  warnings.warn(\n"
     ]
    },
    {
     "data": {
      "text/plain": [
       "<AxesSubplot:xlabel='JobProfileIDApplyingFor', ylabel='count'>"
      ]
     },
     "execution_count": 13,
     "metadata": {},
     "output_type": "execute_result"
    },
    {
     "data": {
      "image/png": "[encoded data removed]",
      "text/plain": [
       "<Figure size 720x432 with 1 Axes>"
      ]
     },
     "metadata": {
      "needs_background": "light"
     },
     "output_type": "display_data"
    }
   ],
   "source": [
    "plt.figure(figsize=(10,6))\n",
    "sns.countplot(train[\"JobProfileIDApplyingFor\"])"
   ]
  },
  {
   "cell_type": "code",
   "execution_count": 14,
   "id": "524c9093",
   "metadata": {},
   "outputs": [
    {
     "name": "stderr",
     "output_type": "stream",
     "text": [
      "c:\\users\\hari\\appdata\\local\\programs\\python\\python39\\lib\\site-packages\\seaborn\\_decorators.py:36: FutureWarning: Pass the following variable as a keyword arg: x. From version 0.12, the only valid positional argument will be `data`, and passing other arguments without an explicit keyword will result in an error or misinterpretation.\n",
      "  warnings.warn(\n"
     ]
    },
    {
     "data": {
      "text/plain": [
       "<AxesSubplot:xlabel='DegreeBranch', ylabel='count'>"
      ]
     },
     "execution_count": 14,
     "metadata": {},
     "output_type": "execute_result"
    },
    {
     "data": {
      "image/png": "[encoded data removed]",
      "text/plain": [
       "<Figure size 720x432 with 1 Axes>"
      ]
     },
     "metadata": {
      "needs_background": "light"
     },
     "output_type": "display_data"
    }
   ],
   "source": [
    "plt.figure(figsize=(10,6))\n",
    "sns.countplot(train[\"DegreeBranch\"])"
   ]
  },
  {
   "cell_type": "code",
   "execution_count": 15,
   "id": "619fb5af",
   "metadata": {},
   "outputs": [
    {
     "name": "stderr",
     "output_type": "stream",
     "text": [
      "c:\\users\\hari\\appdata\\local\\programs\\python\\python39\\lib\\site-packages\\seaborn\\_decorators.py:36: FutureWarning: Pass the following variable as a keyword arg: x. From version 0.12, the only valid positional argument will be `data`, and passing other arguments without an explicit keyword will result in an error or misinterpretation.\n",
      "  warnings.warn(\n"
     ]
    },
    {
     "data": {
      "text/plain": [
       "<AxesSubplot:xlabel='GraduatingInstitute', ylabel='count'>"
      ]
     },
     "execution_count": 15,
     "metadata": {},
     "output_type": "execute_result"
    },
    {
     "data": {
      "image/png": "[encoded data removed]",
      "text/plain": [
       "<Figure size 720x432 with 1 Axes>"
      ]
     },
     "metadata": {
      "needs_background": "light"
     },
     "output_type": "display_data"
    }
   ],
   "source": [
    "plt.figure(figsize=(10,6))\n",
    "sns.countplot(train[\"GraduatingInstitute\"])"
   ]
  },
  {
   "cell_type": "code",
   "execution_count": 16,
   "id": "53ed95c7",
   "metadata": {},
   "outputs": [
    {
     "name": "stderr",
     "output_type": "stream",
     "text": [
      "c:\\users\\hari\\appdata\\local\\programs\\python\\python39\\lib\\site-packages\\seaborn\\_decorators.py:36: FutureWarning: Pass the following variable as a keyword arg: x. From version 0.12, the only valid positional argument will be `data`, and passing other arguments without an explicit keyword will result in an error or misinterpretation.\n",
      "  warnings.warn(\n"
     ]
    },
    {
     "data": {
      "text/plain": [
       "<AxesSubplot:xlabel='MartialStatus', ylabel='count'>"
      ]
     },
     "execution_count": 16,
     "metadata": {},
     "output_type": "execute_result"
    },
    {
     "data": {
      "image/png": "[encoded data removed]",
      "text/plain": [
       "<Figure size 720x432 with 1 Axes>"
      ]
     },
     "metadata": {
      "needs_background": "light"
     },
     "output_type": "display_data"
    }
   ],
   "source": [
    "plt.figure(figsize=(10,6))\n",
    "sns.countplot(train[\"MartialStatus\"])"
   ]
  },
  {
   "cell_type": "code",
   "execution_count": 17,
   "id": "90752fff",
   "metadata": {},
   "outputs": [
    {
     "name": "stderr",
     "output_type": "stream",
     "text": [
      "c:\\users\\hari\\appdata\\local\\programs\\python\\python39\\lib\\site-packages\\seaborn\\_decorators.py:36: FutureWarning: Pass the following variable as a keyword arg: x. From version 0.12, the only valid positional argument will be `data`, and passing other arguments without an explicit keyword will result in an error or misinterpretation.\n",
      "  warnings.warn(\n"
     ]
    },
    {
     "data": {
      "text/plain": [
       "<AxesSubplot:xlabel='Gender', ylabel='count'>"
      ]
     },
     "execution_count": 17,
     "metadata": {},
     "output_type": "execute_result"
    },
    {
     "data": {
      "image/png": "[encoded data removed]",
      "text/plain": [
       "<Figure size 720x432 with 1 Axes>"
      ]
     },
     "metadata": {
      "needs_background": "light"
     },
     "output_type": "display_data"
    }
   ],
   "source": [
    "plt.figure(figsize=(10,6))\n",
    "sns.countplot(train[\"Gender\"])"
   ]
  },
  {
   "cell_type": "code",
   "execution_count": 18,
   "id": "6f7fa44b",
   "metadata": {},
   "outputs": [
    {
     "name": "stderr",
     "output_type": "stream",
     "text": [
      "c:\\users\\hari\\appdata\\local\\programs\\python\\python39\\lib\\site-packages\\seaborn\\_decorators.py:36: FutureWarning: Pass the following variable as a keyword arg: x. From version 0.12, the only valid positional argument will be `data`, and passing other arguments without an explicit keyword will result in an error or misinterpretation.\n",
      "  warnings.warn(\n"
     ]
    },
    {
     "data": {
      "text/plain": [
       "<AxesSubplot:xlabel='LatestDegreeCGPA', ylabel='count'>"
      ]
     },
     "execution_count": 18,
     "metadata": {},
     "output_type": "execute_result"
    },
    {
     "data": {
      "image/png": "[encoded data removed]",
      "text/plain": [
       "<Figure size 720x432 with 1 Axes>"
      ]
     },
     "metadata": {
      "needs_background": "light"
     },
     "output_type": "display_data"
    }
   ],
   "source": [
    "plt.figure(figsize=(10,6))\n",
    "sns.countplot(train[\"LatestDegreeCGPA\"])"
   ]
  },
  {
   "cell_type": "code",
   "execution_count": 19,
   "id": "4e2680cf",
   "metadata": {},
   "outputs": [
    {
     "name": "stderr",
     "output_type": "stream",
     "text": [
      "c:\\users\\hari\\appdata\\local\\programs\\python\\python39\\lib\\site-packages\\seaborn\\_decorators.py:36: FutureWarning: Pass the following variable as a keyword arg: x. From version 0.12, the only valid positional argument will be `data`, and passing other arguments without an explicit keyword will result in an error or misinterpretation.\n",
      "  warnings.warn(\n"
     ]
    },
    {
     "data": {
      "text/plain": [
       "<AxesSubplot:xlabel='CurrentCompanyType', ylabel='count'>"
      ]
     },
     "execution_count": 19,
     "metadata": {},
     "output_type": "execute_result"
    },
    {
     "data": {
      "image/png": "[encoded data removed]",
      "text/plain": [
       "<Figure size 720x432 with 1 Axes>"
      ]
     },
     "metadata": {
      "needs_background": "light"
     },
     "output_type": "display_data"
    }
   ],
   "source": [
    "plt.figure(figsize=(10,6))\n",
    "sns.countplot(train[\"CurrentCompanyType\"])"
   ]
  },
  {
   "cell_type": "code",
   "execution_count": 20,
   "id": "c90708b0",
   "metadata": {},
   "outputs": [
    {
     "name": "stderr",
     "output_type": "stream",
     "text": [
      "c:\\users\\hari\\appdata\\local\\programs\\python\\python39\\lib\\site-packages\\seaborn\\_decorators.py:36: FutureWarning: Pass the following variable as a keyword arg: x. From version 0.12, the only valid positional argument will be `data`, and passing other arguments without an explicit keyword will result in an error or misinterpretation.\n",
      "  warnings.warn(\n"
     ]
    },
    {
     "data": {
      "text/plain": [
       "<AxesSubplot:xlabel='DepartmentInCompany', ylabel='count'>"
      ]
     },
     "execution_count": 20,
     "metadata": {},
     "output_type": "execute_result"
    },
    {
     "data": {
      "image/png": "[encoded data removed]",
      "text/plain": [
       "<Figure size 720x432 with 1 Axes>"
      ]
     },
     "metadata": {
      "needs_background": "light"
     },
     "output_type": "display_data"
    }
   ],
   "source": [
    "plt.figure(figsize=(10,6))\n",
    "sns.countplot(train[\"DepartmentInCompany\"])"
   ]
  },
  {
   "cell_type": "code",
   "execution_count": 21,
   "id": "a5a0e2a0",
   "metadata": {},
   "outputs": [
    {
     "name": "stderr",
     "output_type": "stream",
     "text": [
      "c:\\users\\hari\\appdata\\local\\programs\\python\\python39\\lib\\site-packages\\seaborn\\_decorators.py:36: FutureWarning: Pass the following variable as a keyword arg: x. From version 0.12, the only valid positional argument will be `data`, and passing other arguments without an explicit keyword will result in an error or misinterpretation.\n",
      "  warnings.warn(\n"
     ]
    },
    {
     "data": {
      "text/plain": [
       "<AxesSubplot:xlabel='CurrentDesignation', ylabel='count'>"
      ]
     },
     "execution_count": 21,
     "metadata": {},
     "output_type": "execute_result"
    },
    {
     "data": {
      "image/png": "[encoded data removed]",
      "text/plain": [
       "<Figure size 720x432 with 1 Axes>"
      ]
     },
     "metadata": {
      "needs_background": "light"
     },
     "output_type": "display_data"
    }
   ],
   "source": [
    "plt.figure(figsize=(10,6))\n",
    "sns.countplot(train[\"CurrentDesignation\"])"
   ]
  },
  {
   "cell_type": "code",
   "execution_count": 22,
   "id": "9c4d531d",
   "metadata": {},
   "outputs": [
    {
     "name": "stderr",
     "output_type": "stream",
     "text": [
      "c:\\users\\hari\\appdata\\local\\programs\\python\\python39\\lib\\site-packages\\seaborn\\distributions.py:2557: FutureWarning: `distplot` is a deprecated function and will be removed in a future version. Please adapt your code to use either `displot` (a figure-level function with similar flexibility) or `histplot` (an axes-level function for histograms).\n",
      "  warnings.warn(msg, FutureWarning)\n"
     ]
    },
    {
     "data": {
      "text/plain": [
       "<AxesSubplot:xlabel='Age', ylabel='Density'>"
      ]
     },
     "execution_count": 22,
     "metadata": {},
     "output_type": "execute_result"
    },
    {
     "data": {
      "image/png": "[encoded data removed]",
      "text/plain": [
       "<Figure size 720x432 with 1 Axes>"
      ]
     },
     "metadata": {
      "needs_background": "light"
     },
     "output_type": "display_data"
    }
   ],
   "source": [
    "plt.figure(figsize=(10,6))\n",
    "sns.distplot(train[\"Age\"])"
   ]
  },
  {
   "cell_type": "code",
   "execution_count": 23,
   "id": "98c4ffd2",
   "metadata": {},
   "outputs": [
    {
     "name": "stderr",
     "output_type": "stream",
     "text": [
      "c:\\users\\hari\\appdata\\local\\programs\\python\\python39\\lib\\site-packages\\seaborn\\distributions.py:2557: FutureWarning: `distplot` is a deprecated function and will be removed in a future version. Please adapt your code to use either `displot` (a figure-level function with similar flexibility) or `histplot` (an axes-level function for histograms).\n",
      "  warnings.warn(msg, FutureWarning)\n"
     ]
    },
    {
     "data": {
      "text/plain": [
       "<AxesSubplot:xlabel='ExpectedCTC', ylabel='Density'>"
      ]
     },
     "execution_count": 23,
     "metadata": {},
     "output_type": "execute_result"
    },
    {
     "data": {
      "image/png": "[encoded data removed]",
      "text/plain": [
       "<Figure size 720x432 with 1 Axes>"
      ]
     },
     "metadata": {
      "needs_background": "light"
     },
     "output_type": "display_data"
    }
   ],
   "source": [
    "plt.figure(figsize=(10,6))\n",
    "sns.distplot(train[\"ExpectedCTC\"])"
   ]
  },
  {
   "cell_type": "code",
   "execution_count": 24,
   "id": "b1e39ebc",
   "metadata": {},
   "outputs": [
    {
     "name": "stderr",
     "output_type": "stream",
     "text": [
      "c:\\users\\hari\\appdata\\local\\programs\\python\\python39\\lib\\site-packages\\seaborn\\distributions.py:2557: FutureWarning: `distplot` is a deprecated function and will be removed in a future version. Please adapt your code to use either `displot` (a figure-level function with similar flexibility) or `histplot` (an axes-level function for histograms).\n",
      "  warnings.warn(msg, FutureWarning)\n"
     ]
    },
    {
     "data": {
      "text/plain": [
       "<AxesSubplot:xlabel='CurrentCTC', ylabel='Density'>"
      ]
     },
     "execution_count": 24,
     "metadata": {},
     "output_type": "execute_result"
    },
    {
     "data": {
      "image/png": "[encoded data removed]",
      "text/plain": [
       "<Figure size 720x432 with 1 Axes>"
      ]
     },
     "metadata": {
      "needs_background": "light"
     },
     "output_type": "display_data"
    }
   ],
   "source": [
    "plt.figure(figsize=(10,6))\n",
    "sns.distplot(train[\"CurrentCTC\"])"
   ]
  },
  {
   "cell_type": "code",
   "execution_count": 25,
   "id": "c98f6176",
   "metadata": {},
   "outputs": [
    {
     "name": "stderr",
     "output_type": "stream",
     "text": [
      "c:\\users\\hari\\appdata\\local\\programs\\python\\python39\\lib\\site-packages\\seaborn\\distributions.py:2557: FutureWarning: `distplot` is a deprecated function and will be removed in a future version. Please adapt your code to use either `displot` (a figure-level function with similar flexibility) or `histplot` (an axes-level function for histograms).\n",
      "  warnings.warn(msg, FutureWarning)\n"
     ]
    },
    {
     "data": {
      "text/plain": [
       "<AxesSubplot:xlabel='YearsOfExperince', ylabel='Density'>"
      ]
     },
     "execution_count": 25,
     "metadata": {},
     "output_type": "execute_result"
    },
    {
     "data": {
      "image/png": "[encoded data removed]",
      "text/plain": [
       "<Figure size 720x432 with 1 Axes>"
      ]
     },
     "metadata": {
      "needs_background": "light"
     },
     "output_type": "display_data"
    }
   ],
   "source": [
    "plt.figure(figsize=(10,6))\n",
    "sns.distplot(train[\"YearsOfExperince\"])"
   ]
  },
  {
   "cell_type": "code",
   "execution_count": 26,
   "id": "d485ceff",
   "metadata": {},
   "outputs": [
    {
     "data": {
      "text/plain": [
       "<AxesSubplot:>"
      ]
     },
     "execution_count": 26,
     "metadata": {},
     "output_type": "execute_result"
    },
    {
     "data": {
      "image/png": "[encoded data removed]",
      "text/plain": [
       "<Figure size 1440x1080 with 2 Axes>"
      ]
     },
     "metadata": {
      "needs_background": "light"
     },
     "output_type": "display_data"
    }
   ],
   "source": [
    "plt.figure(figsize=(20,15))\n",
    "sns.heatmap(train.corr(),linecolor='white',cmap='seismic')"
   ]
  },
  {
   "cell_type": "markdown",
   "id": "5ecb436f",
   "metadata": {},
   "source": [
    "**Conversion of categorical variables into numeric using one-hot encoding**"
   ]
  },
  {
   "cell_type": "code",
   "execution_count": 27,
   "id": "c98a9856",
   "metadata": {},
   "outputs": [],
   "source": [
    "columns = ['LanguageOfCommunication','Gender','JobProfileIDApplyingFor','HighestDegree','DegreeBranch', 'GraduatingInstitute','LatestDegreeCGPA',\n",
    "'MartialStatus','CurrentDesignation', 'CurrentCompanyType','DepartmentInCompany']"
   ]
  },
  {
   "cell_type": "code",
   "execution_count": 28,
   "id": "73d976ff",
   "metadata": {},
   "outputs": [],
   "source": [
    "train = pd.get_dummies(train,columns=columns,drop_first=True)\n",
    "test = pd.get_dummies(test,columns=columns,drop_first=True)"
   ]
  },
  {
   "cell_type": "markdown",
   "id": "a2da6fcc",
   "metadata": {},
   "source": [
    "**Custom normalization function instead of using MinMaxScalar**"
   ]
  },
  {
   "cell_type": "code",
   "execution_count": 29,
   "id": "87c8508d",
   "metadata": {},
   "outputs": [],
   "source": [
    "def normalization(i):\n",
    "    x = (i-i.min())/(i.max()-i.min())\n",
    "    return(x)"
   ]
  },
  {
   "cell_type": "markdown",
   "id": "9c1a98e1",
   "metadata": {},
   "source": [
    "**Defining Targets and Features**"
   ]
  },
  {
   "cell_type": "code",
   "execution_count": 30,
   "id": "2e81ec33",
   "metadata": {},
   "outputs": [],
   "source": [
    "x = normalization(train.drop(columns=[\"BiasInfluentialFactor\",\"FitmentPercent\"]))\n",
    "y = train[\"BiasInfluentialFactor\"]\n",
    "z = train[\"FitmentPercent\"]"
   ]
  },
  {
   "cell_type": "code",
   "execution_count": 31,
   "id": "4bdf8d60",
   "metadata": {},
   "outputs": [],
   "source": [
    "test = normalization(test)"
   ]
  },
  {
   "cell_type": "markdown",
   "id": "d209e070",
   "metadata": {},
   "source": [
    "**Spliting train data into train and validation**"
   ]
  },
  {
   "cell_type": "code",
   "execution_count": 32,
   "id": "53dad62f",
   "metadata": {},
   "outputs": [],
   "source": [
    "xtrain, xvalid, ytrain, yvalid = train_test_split(x, y, test_size=.3, random_state =123)\n",
    "xtrain, xvalid, ztrain, zvalid = train_test_split(x, z, test_size=.3, random_state =123)"
   ]
  },
  {
   "cell_type": "markdown",
   "id": "2ffbd60e",
   "metadata": {},
   "source": [
    "**XGBoost Classifier and Regressor are used for Predictions**"
   ]
  },
  {
   "cell_type": "code",
   "execution_count": 33,
   "id": "c64c3da6",
   "metadata": {},
   "outputs": [
    {
     "name": "stdout",
     "output_type": "stream",
     "text": [
      "Requirement already satisfied: xgboost in c:\\users\\hari\\appdata\\local\\programs\\python\\python39\\lib\\site-packages (1.4.2)\n",
      "Requirement already satisfied: numpy in c:\\users\\hari\\appdata\\local\\programs\\python\\python39\\lib\\site-packages (from xgboost) (1.20.3)\n",
      "Requirement already satisfied: scipy in c:\\users\\hari\\appdata\\local\\programs\\python\\python39\\lib\\site-packages (from xgboost) (1.6.3)\n",
      "Note: you may need to restart the kernel to use updated packages.\n"
     ]
    }
   ],
   "source": [
    "pip install xgboost"
   ]
  },
  {
   "cell_type": "code",
   "execution_count": 34,
   "id": "1b223e1c",
   "metadata": {},
   "outputs": [],
   "source": [
    "from xgboost import XGBClassifier, XGBRegressor"
   ]
  },
  {
   "cell_type": "markdown",
   "id": "97100e57",
   "metadata": {},
   "source": [
    "**Classification Part**"
   ]
  },
  {
   "cell_type": "code",
   "execution_count": 35,
   "id": "3c2127ae",
   "metadata": {},
   "outputs": [
    {
     "name": "stderr",
     "output_type": "stream",
     "text": [
      "c:\\users\\hari\\appdata\\local\\programs\\python\\python39\\lib\\site-packages\\xgboost\\sklearn.py:1146: UserWarning: The use of label encoder in XGBClassifier is deprecated and will be removed in a future release. To remove this warning, do the following: 1) Pass option use_label_encoder=False when constructing XGBClassifier object; and 2) Encode your labels (y) as integers starting with 0, i.e. 0, 1, 2, ..., [num_class - 1].\n",
      "  warnings.warn(label_encoder_deprecation_msg, UserWarning)\n"
     ]
    },
    {
     "name": "stdout",
     "output_type": "stream",
     "text": [
      "[00:51:52] WARNING: C:/Users/Administrator/workspace/xgboost-win64_release_1.4.0/src/learner.cc:1095: Starting in XGBoost 1.3.0, the default evaluation metric used with the objective 'multi:softprob' was changed from 'merror' to 'mlogloss'. Explicitly set eval_metric if you'd like to restore the old behavior.\n"
     ]
    }
   ],
   "source": [
    "model1 = XGBClassifier().fit(xtrain, ytrain)\n",
    "pred1 = model1.predict(xvalid)"
   ]
  },
  {
   "cell_type": "code",
   "execution_count": 36,
   "id": "d20ddb48",
   "metadata": {},
   "outputs": [],
   "source": [
    "pred1 = model1.predict(xvalid)"
   ]
  },
  {
   "cell_type": "code",
   "execution_count": 37,
   "id": "6d0f6910",
   "metadata": {},
   "outputs": [
    {
     "data": {
      "text/plain": [
       "0.7928676111382511"
      ]
     },
     "execution_count": 37,
     "metadata": {},
     "output_type": "execute_result"
    }
   ],
   "source": [
    "accuracy_score(yvalid,pred1)"
   ]
  },
  {
   "cell_type": "markdown",
   "id": "434d0408",
   "metadata": {},
   "source": [
    "Hyper Tuning the model by giving values to parameters\n",
    "Note : Many Values are tried but suitable values are placed here"
   ]
  },
  {
   "cell_type": "code",
   "execution_count": 38,
   "id": "c2c1f620",
   "metadata": {},
   "outputs": [
    {
     "name": "stderr",
     "output_type": "stream",
     "text": [
      "c:\\users\\hari\\appdata\\local\\programs\\python\\python39\\lib\\site-packages\\xgboost\\sklearn.py:1146: UserWarning: The use of label encoder in XGBClassifier is deprecated and will be removed in a future release. To remove this warning, do the following: 1) Pass option use_label_encoder=False when constructing XGBClassifier object; and 2) Encode your labels (y) as integers starting with 0, i.e. 0, 1, 2, ..., [num_class - 1].\n",
      "  warnings.warn(label_encoder_deprecation_msg, UserWarning)\n"
     ]
    },
    {
     "name": "stdout",
     "output_type": "stream",
     "text": [
      "[00:51:58] WARNING: C:/Users/Administrator/workspace/xgboost-win64_release_1.4.0/src/learner.cc:573: \n",
      "Parameters: { \"scale_pos_weight\" } might not be used.\n",
      "\n",
      "  This may not be accurate due to some parameters are only used in language bindings but\n",
      "  passed down to XGBoost core.  Or some parameters are not used but slip through this\n",
      "  verification. Please open an issue if you find above cases.\n",
      "\n",
      "\n",
      "[00:51:58] WARNING: C:/Users/Administrator/workspace/xgboost-win64_release_1.4.0/src/learner.cc:1095: Starting in XGBoost 1.3.0, the default evaluation metric used with the objective 'multi:softprob' was changed from 'merror' to 'mlogloss'. Explicitly set eval_metric if you'd like to restore the old behavior.\n"
     ]
    }
   ],
   "source": [
    "model2 = XGBClassifier(scale_pos_weight=1,\n",
    "                      learning_rate=0.2,  \n",
    "                      colsample_bytree = 0.3,\n",
    "                      subsample = 0.6,\n",
    "                      objective='binary:logistic', \n",
    "                      n_estimators=3600, \n",
    "                      reg_alpha = 0.3,\n",
    "                      max_depth=12, \n",
    "                      gamma=10).fit(xtrain, ytrain)"
   ]
  },
  {
   "cell_type": "markdown",
   "id": "818a2c02",
   "metadata": {},
   "source": [
    "Predicting for validation part"
   ]
  },
  {
   "cell_type": "code",
   "execution_count": 39,
   "id": "e3ae2831",
   "metadata": {},
   "outputs": [],
   "source": [
    "pred2 = model2.predict(xvalid)"
   ]
  },
  {
   "cell_type": "code",
   "execution_count": 40,
   "id": "a91c7944",
   "metadata": {},
   "outputs": [
    {
     "data": {
      "text/plain": [
       "array(['HighestDegree', 'YearsOfExperince', 'None', ..., 'Gender',\n",
       "       'EmpScore', 'DegreeBranch'], dtype=object)"
      ]
     },
     "execution_count": 40,
     "metadata": {},
     "output_type": "execute_result"
    }
   ],
   "source": [
    "pred2"
   ]
  },
  {
   "cell_type": "markdown",
   "id": "9e11ae48",
   "metadata": {},
   "source": [
    "Accuracy is found"
   ]
  },
  {
   "cell_type": "code",
   "execution_count": 41,
   "id": "7867290f",
   "metadata": {},
   "outputs": [
    {
     "data": {
      "text/plain": [
       "0.8019052271617001"
      ]
     },
     "execution_count": 41,
     "metadata": {},
     "output_type": "execute_result"
    }
   ],
   "source": [
    "accuracy_score(yvalid,pred2)"
   ]
  },
  {
   "cell_type": "markdown",
   "id": "6f680c4a",
   "metadata": {},
   "source": [
    "Test Dataset is given for prediction and result is saved in varibale for further csv creation"
   ]
  },
  {
   "cell_type": "code",
   "execution_count": 42,
   "id": "39cc5969",
   "metadata": {},
   "outputs": [],
   "source": [
    "bias = model2.predict(test)"
   ]
  },
  {
   "cell_type": "code",
   "execution_count": 43,
   "id": "8b84bd23",
   "metadata": {},
   "outputs": [
    {
     "data": {
      "text/plain": [
       "array(['DegreeBranch', 'DegreeBranch', 'LatestDegreeCGPA', ...,\n",
       "       'DegreeBranch', 'None', 'None'], dtype=object)"
      ]
     },
     "execution_count": 43,
     "metadata": {},
     "output_type": "execute_result"
    }
   ],
   "source": [
    "bias"
   ]
  },
  {
   "cell_type": "markdown",
   "id": "06a7b21c",
   "metadata": {},
   "source": [
    "**Now Regression Part**"
   ]
  },
  {
   "cell_type": "code",
   "execution_count": 44,
   "id": "a40852af",
   "metadata": {},
   "outputs": [],
   "source": [
    "modelr = XGBRegressor().fit(xtrain,ztrain)"
   ]
  },
  {
   "cell_type": "code",
   "execution_count": 45,
   "id": "5ca0939a",
   "metadata": {},
   "outputs": [],
   "source": [
    "predr = modelr.predict(xvalid)"
   ]
  },
  {
   "cell_type": "code",
   "execution_count": 46,
   "id": "b06e7bcd",
   "metadata": {},
   "outputs": [
    {
     "data": {
      "text/plain": [
       "array([54.604828, 78.20593 , 62.41902 , ..., 85.50966 , 84.637474,\n",
       "       79.9865  ], dtype=float32)"
      ]
     },
     "execution_count": 46,
     "metadata": {},
     "output_type": "execute_result"
    }
   ],
   "source": [
    "predr"
   ]
  },
  {
   "cell_type": "markdown",
   "id": "6a56fee7",
   "metadata": {},
   "source": [
    "R^2 and RMSE values are found"
   ]
  },
  {
   "cell_type": "code",
   "execution_count": 47,
   "id": "347b5efe",
   "metadata": {},
   "outputs": [
    {
     "data": {
      "text/plain": [
       "0.5874361545588819"
      ]
     },
     "execution_count": 47,
     "metadata": {},
     "output_type": "execute_result"
    }
   ],
   "source": [
    "r2_score(zvalid,predr)"
   ]
  },
  {
   "cell_type": "code",
   "execution_count": 48,
   "id": "42725f35",
   "metadata": {},
   "outputs": [
    {
     "name": "stdout",
     "output_type": "stream",
     "text": [
      "RMSE: 9.647147\n"
     ]
    }
   ],
   "source": [
    "import math\n",
    "from math import sqrt\n",
    "test_mse = mean_squared_error(zvalid, predr)\n",
    "rmse = sqrt(test_mse)\n",
    "print('RMSE: %f' % rmse)"
   ]
  },
  {
   "cell_type": "markdown",
   "id": "6e453995",
   "metadata": {},
   "source": [
    "Test dataset is passed to model to predict fitment% and saved to varibale"
   ]
  },
  {
   "cell_type": "code",
   "execution_count": 49,
   "id": "19f1f067",
   "metadata": {},
   "outputs": [],
   "source": [
    "fitment = modelr.predict(test)"
   ]
  },
  {
   "cell_type": "code",
   "execution_count": 50,
   "id": "cd31643f",
   "metadata": {},
   "outputs": [
    {
     "data": {
      "text/plain": [
       "array([92.65868 , 84.00628 , 79.16753 , ..., 80.66739 , 60.564316,\n",
       "       51.48403 ], dtype=float32)"
      ]
     },
     "execution_count": 50,
     "metadata": {},
     "output_type": "execute_result"
    }
   ],
   "source": [
    "fitment"
   ]
  },
  {
   "cell_type": "markdown",
   "id": "26e5bb77",
   "metadata": {},
   "source": [
    "**DataFrame Creation**\n",
    "\n",
    "\n",
    "A DataFrame is created using the Test EmpID Column and with 2 other columns"
   ]
  },
  {
   "cell_type": "code",
   "execution_count": 51,
   "id": "ecc7a3a8",
   "metadata": {},
   "outputs": [],
   "source": [
    "submission = pd.DataFrame(EmpID,columns = [\"EmpID\",\"BiasInfluentialFactor\",\"FitmentPercent\"])"
   ]
  },
  {
   "cell_type": "markdown",
   "id": "44f73f11",
   "metadata": {},
   "source": [
    "2 empty columns are assigned with classification and regression models results respectively"
   ]
  },
  {
   "cell_type": "code",
   "execution_count": 52,
   "id": "eeb1c846",
   "metadata": {},
   "outputs": [],
   "source": [
    "submission.BiasInfluentialFactor = bias\n",
    "submission.FitmentPercent = fitment"
   ]
  },
  {
   "cell_type": "code",
   "execution_count": 53,
   "id": "6871560f",
   "metadata": {},
   "outputs": [],
   "source": [
    "submission[\"BiasInfluentialFactor\"] = submission[\"BiasInfluentialFactor\"].replace([\"None\"],'')"
   ]
  },
  {
   "cell_type": "markdown",
   "id": "18fa6cb9",
   "metadata": {},
   "source": [
    "Data Frame is exported as CSV File for submission"
   ]
  },
  {
   "cell_type": "code",
   "execution_count": 54,
   "id": "430fe76c",
   "metadata": {},
   "outputs": [],
   "source": [
    "submission.to_csv(\"submissionfinal.csv\")"
   ]
  }
 ],
 "metadata": {
  "kernelspec": {
   "display_name": "Python 3",
   "language": "python",
   "name": "python3"
  },
  "language_info": {
   "codemirror_mode": {
    "name": "ipython",
    "version": 3
   },
   "file_extension": ".py",
   "mimetype": "text/x-python",
   "name": "python",
   "nbconvert_exporter": "python",
   "pygments_lexer": "ipython3",
   "version": "3.9.4"
  }
 },
 "nbformat": 4,
 "nbformat_minor": 5
}
